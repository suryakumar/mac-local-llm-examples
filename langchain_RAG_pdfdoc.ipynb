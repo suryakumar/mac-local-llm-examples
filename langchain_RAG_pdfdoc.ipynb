{
 "cells": [
  {
   "cell_type": "code",
   "execution_count": 1,
   "metadata": {},
   "outputs": [],
   "source": [
    "import gc\n",
    "import torch\n",
    "import os\n",
    "\n",
    "# Set device\n",
    "torch_device = \"cuda\" if torch.cuda.is_available() else \"mps\" if torch.backends.mps.is_available() else \"cpu\"\n",
    "if \"mps\" == torch_device: os.environ['PYTORCH_ENABLE_MPS_FALLBACK'] = \"1\"\n",
    "\n",
    "def clear_cache():\n",
    "    gc.collect()\n",
    "    if torch_device == 'cuda':\n",
    "        torch.cuda.empty_cache()\n",
    "    elif torch_device == 'mps':\n",
    "        torch.mps.empty_cache()"
   ]
  },
  {
   "cell_type": "markdown",
   "metadata": {},
   "source": [
    "# 1. Indexing"
   ]
  },
  {
   "cell_type": "code",
   "execution_count": 2,
   "metadata": {},
   "outputs": [],
   "source": [
    "from langchain_community.document_loaders import PyPDFLoader\n",
    "\n",
    "loader = PyPDFLoader(\"./sample_docs/Surya_Resume.pdf\")\n",
    "pages = loader.load_and_split()\n",
    "\n",
    "\n",
    "#from langchain_community.document_loaders import PDFMinerLoader\n",
    "#loader = PDFMinerLoader(\"./sample_docs/Surya_Resume.pdf\")\n",
    "#data = loader.load()\n"
   ]
  },
  {
   "cell_type": "code",
   "execution_count": 3,
   "metadata": {},
   "outputs": [
    {
     "name": "stdout",
     "output_type": "stream",
     "text": [
      "Num pages:  2\n",
      "SURYA KUMAR SARIPELLA H 27 Richardson Rd, Burlington, MA 01803 https://www.linkedin.com/in/surya-kumar-saripella/ È (669) 246.0372 : s.suryakumar@gmail.com    SUMMARY   Accomplished leader with proven skills in driving technology strategy and implementation to fulfill business objectives. Expert in fostering an environment rooted in data-centric decision-making and adept at steering cross-functional teams within the Financial and Technology industries. Skilled in:  ü Data and AI Strategy & Implementation ü Strategic Partnerships & Stakeholder Relations  ü Tech Strategy / Product Management ü AI/ML Models & Analytics ü Business Integration & Growth ü Scaling Teams & Nurturing Talent   PROFESSIONAL EXPERIENCE   DISTILL.IO                          BURLINGTON, MA Developing data pipelines to track unstructured website changes for enterprise notifications CHIEF INNOVATION OFFICER / HEAD OF AI STRATEGY MAY 2021 – PRESENT   ü Formulated the AI strategy and roadmap to enhance notification pipelines’ performance & reliability ü Successfully earned a Machine Learning & Artificial Intelligence certification from MIT ü Lead a team of data scientists to deploy ML models to production, reducing error rates by over 50% ü Conducted 50+ customer interviews to drive technology roadmap  ü Engaged with top-tier customers for enterprise user base expansion ü Launched new web data extraction platform with paid pilot customers   PROGRESS SOFTWARE CORPORATION                BEDFORD, MA Executed $220M Chef.io acquisition to integrate a new technology business into Progress’s portfolio SR. DIRECTOR, STRATEGIC PROGRAMS OCT 2019 – APR 2021   ü Created & validated the financial acquisition model with ARR projections ü Led 120-day integration roadmap for Chef.io, collaborating across departments to achieve acquisition goals, including cross-border organizational framework setup ü Spearheaded Chef’s data integration into Progress’s enterprise architecture ü Developed core analytics dashboards for tracking business metrics (ARR, Renewal Rate, Churn rate etc.)   QUANTUM PHINANCE CONSULTING PVT LTD                    MUMBAI, INDIA Built an enterprise focused on providing patented technology & consulting solutions across the financial services sector CHIEF EXECUTIVE OFFICER JUL 2016 – DEC 2018 DIRECTOR, PRODUCTS & PROGRAMS JAN 2012 – JUN 2016   ü Achieved 65% YoY revenue growth with consistent quarterly profitability as the CEO ü Technology consulting & implementation for large enterprise customers o Led the strategy to secure first 20+ paying enterprise customers (asset management, payment gateways, insurance, regulators, primary dealerships, and commodity exchanges) o Engaged in 40+ PoC’s (Proof-of-Concept) for Sheetkraft and secured CXO level commitments o Negotiated annual subscription and multi-year service contracts ü Asset Management Middle Office (Birla SunLife AMC, HDFC Mutual Fund, IDFC Mutual Fund etc) o Deployed in-house NAV calculation system which included integration with various data providers, valuation of instruments, maintaining positions data & master data management o Developed Brokerage Analytics engine for Portfolio Management Services business o Rolled-out Regulatory Reporting platform to automate monthly Fund holding statement delivery ü Risk Consulting and Analytics o Developed Value-at-Risk (VaR) based risk management framework & managed market risk for derivates trading book at National Bank of Abu Dhabi (NBAD) o Suggested enhancements to market risk capital calculations for a major Indian primary dealership, resulting in 10% regulatory capital savings ü Scaled the organization from 15 to 50+ members ü Enabled global market entry through channel partnerships in Europe and Asia\n"
     ]
    }
   ],
   "source": [
    "print('Num pages: ', len(pages))\n",
    "print(pages[0].page_content)"
   ]
  },
  {
   "cell_type": "markdown",
   "metadata": {},
   "source": [
    "# 2. Indexing: Split into documents"
   ]
  },
  {
   "cell_type": "code",
   "execution_count": 4,
   "metadata": {},
   "outputs": [
    {
     "data": {
      "text/plain": [
       "15"
      ]
     },
     "execution_count": 4,
     "metadata": {},
     "output_type": "execute_result"
    }
   ],
   "source": [
    "from langchain_text_splitters import RecursiveCharacterTextSplitter\n",
    "\n",
    "text_splitter = RecursiveCharacterTextSplitter(\n",
    "    chunk_size=500, chunk_overlap=100, add_start_index=True\n",
    ")\n",
    "all_splits = text_splitter.split_documents(pages)\n",
    "len(all_splits)\n",
    "\n",
    "#from langchain_text_splitters import CharacterTextSplitter\n",
    "#char_text_splitter = CharacterTextSplitter(\n",
    "#    separator='\\n\\n',\n",
    "#    chunk_size=1000,\n",
    "#    chunk_overlap=200,\n",
    "#    length_function=len,\n",
    "#    is_separator_regex=False,\n",
    "#)\n",
    "#texts = char_text_splitter.create_documents(pages[0].page_content)\n",
    "#print(len(texts))\n"
   ]
  },
  {
   "cell_type": "code",
   "execution_count": 5,
   "metadata": {},
   "outputs": [
    {
     "name": "stdout",
     "output_type": "stream",
     "text": [
      "page_content='SURYA KUMAR SARIPELLA H 27 Richardson Rd, Burlington, MA 01803 https://www.linkedin.com/in/surya-kumar-saripella/ È (669) 246.0372 : s.suryakumar@gmail.com     MORGAN STANLEY            MUMBAI, INDIA Global Equity Derivatives Strategy SENIOR ASSOCIATE APR 2009 – JAN 2012   ü Developed a Cross-Asset volatility monitor to analyze volatility metrics (volatility, term structure, skew etc.) across Equities, FX, Interest Rates, Commodities & Credit to identify market dislocations ü Designed' metadata={'source': './sample_docs/Surya_Resume.pdf', 'page': 1, 'start_index': 0}\n"
     ]
    }
   ],
   "source": [
    "print(all_splits[10])"
   ]
  },
  {
   "cell_type": "code",
   "execution_count": 6,
   "metadata": {},
   "outputs": [
    {
     "name": "stdout",
     "output_type": "stream",
     "text": [
      "SURYA KUMAR SARIPELLA H 27 Richardson Rd, Burlington, MA 01803 https://www.linkedin.com/in/surya-kumar-saripella/ È (669) 246.0372 : s.suryakumar@gmail.com    SUMMARY   Accomplished leader with proven skills in driving technology strategy and implementation to fulfill business objectives. Expert in fostering an environment rooted in data-centric decision-making and adept at steering cross-functional teams within the Financial and Technology industries. Skilled in:  ü Data and AI Strategy &\n"
     ]
    }
   ],
   "source": [
    "print(all_splits[0].page_content)"
   ]
  },
  {
   "cell_type": "markdown",
   "metadata": {},
   "source": [
    "# Step 3: Indexing: Store"
   ]
  },
  {
   "cell_type": "code",
   "execution_count": 7,
   "metadata": {},
   "outputs": [
    {
     "name": "stderr",
     "output_type": "stream",
     "text": [
      "/Users/surya/Documents/personal/kaggle/venv_kaggle/lib/python3.11/site-packages/torch/_utils.py:831: UserWarning: TypedStorage is deprecated. It will be removed in the future and UntypedStorage will be the only storage class. This should only matter to you if you are using storages directly.  To access UntypedStorage directly, use tensor.untyped_storage() instead of tensor.storage()\n",
      "  return self.fget.__get__(instance, owner)()\n"
     ]
    }
   ],
   "source": [
    "from langchain_community.embeddings import HuggingFaceEmbeddings\n",
    "from sentence_transformers import SentenceTransformer\n",
    "from langchain_community.vectorstores import Chroma\n",
    "\n",
    "#model = SentenceTransformer('sentence-transformers/all-MiniLM-L6-v2')\n",
    "\n",
    "#Embedding Model options (dimensions must be 768)\n",
    "\n",
    "#model_name = 'sentence-transformers/all-mpnet-base-v2' # Embedding size is 768\n",
    "#model_name='sentence-transformers/all-MiniLM-L6-v2' # Embedding size is 328 (won't work)\n",
    "model_name = 'sentence-transformers/all-distilroberta-v1' # Embedding size is 768\n",
    "\n",
    "\n",
    "model_kwargs = {'device':'mps'} # allows using GPU for embeddings\n",
    "encode_kwargs = {'normalize_embeddings': True} # normalizes embedding vector (between 0 to 1)\n",
    "embeddings = HuggingFaceEmbeddings(\n",
    "    model_name=model_name,\n",
    "    model_kwargs=model_kwargs,\n",
    "    encode_kwargs=encode_kwargs\n",
    ")\n",
    "\n",
    "vectorstore = Chroma.from_documents(documents=all_splits, embedding=embeddings)"
   ]
  },
  {
   "cell_type": "markdown",
   "metadata": {},
   "source": [
    "# Step 4: Retreival & Generation: Retrieve"
   ]
  },
  {
   "cell_type": "code",
   "execution_count": 8,
   "metadata": {},
   "outputs": [],
   "source": [
    "#retriever = vectorstore.as_retriever(search_type=\"mmr\", search_kwargs={\"k\": 8})\n",
    "retriever = vectorstore.as_retriever(search_type=\"similarity\", search_kwargs={\"k\": 8})"
   ]
  },
  {
   "cell_type": "markdown",
   "metadata": {},
   "source": [
    "# Step 5: Retreival & Generation: Generate"
   ]
  },
  {
   "cell_type": "code",
   "execution_count": 9,
   "metadata": {},
   "outputs": [],
   "source": [
    "from langchain_community.chat_models import ChatOllama\n",
    "\n",
    "#Defining the models to be used\n",
    "\n",
    "llm_ollama = ChatOllama(model='llama2')\n",
    "#llm_ollama = ChatOllama(model='bakllava')\n",
    "#llm_ollama = ChatOllama(model='mixtral')\n",
    "#llm_ollama = ChatOllama(model='mistral')\n",
    "#llm_ollama = ChatOllama(model='gemma')\n"
   ]
  },
  {
   "cell_type": "code",
   "execution_count": 10,
   "metadata": {},
   "outputs": [],
   "source": [
    "from langchain import hub\n",
    "prompt = hub.pull(\"rlm/rag-prompt\")"
   ]
  },
  {
   "cell_type": "code",
   "execution_count": 11,
   "metadata": {},
   "outputs": [],
   "source": [
    "from langchain_core.output_parsers import StrOutputParser\n",
    "from langchain_core.runnables import RunnablePassthrough\n",
    "\n",
    "\n",
    "def format_docs(docs):\n",
    "    return \"\\n\\n\".join(doc.page_content for doc in docs)\n",
    "\n",
    "\n",
    "rag_chain = (\n",
    "    {\"context\": retriever | format_docs, \"question\": RunnablePassthrough()}\n",
    "    | prompt\n",
    "    | llm_ollama\n",
    "    | StrOutputParser()\n",
    ")"
   ]
  },
  {
   "cell_type": "code",
   "execution_count": 12,
   "metadata": {},
   "outputs": [],
   "source": [
    "q1 = \"Which all companies did Surya work for?\"\n",
    "q2 = \"Which all cities did Surya work so far?\"\n",
    "q3 = \"What are Surya's academic qualifications?\"\n",
    "q4 = \"Where does Surya currently reside?\"\n",
    "\n",
    "#Contact Info  (does not seem to work)\n",
    "q5 = \"Give me Surya's Phone Number\"\n",
    "q6 = \"Give me Surya's e-mail address\"\n",
    "q7 = \"Can you extract Surya's contact information which is at the top of the document?\"\n",
    "\n",
    "q8 = \"What job titles should Surya look for?\"\n",
    "\n",
    "#\n"
   ]
  },
  {
   "cell_type": "code",
   "execution_count": 13,
   "metadata": {},
   "outputs": [
    {
     "name": "stdout",
     "output_type": "stream",
     "text": [
      "Surya Kumar Saripella has worked in the following cities:\n",
      "\n",
      "* Mumbai, India (for work at Quantum Phinance Consulting Pvt Ltd and Morgan Stanley)\n",
      "* Burlington, MA (for work at Distill.io and as a Chief Innovation Officer/Head of AI)\n",
      "\n",
      "Surya Kumar Saripella's professional experience includes working as a Senior Associate at Morgan Stanley in Mumbai, India, where he developed a cross-asset volatility monitor to analyze volatility metrics across various asset classes. He also worked at Distill.io in Burlington, MA, where he developed data pipelines to track unstructured website changes for enterprise notifications. Additionally, Surya Kumar Saripella has experience in strategic partnerships and stakeholder relations, tech strategy and product management, AI/ML models and analytics, business integration and growth, and scaling teams and nurturing talent."
     ]
    }
   ],
   "source": [
    "question = q2\n",
    "\n",
    "for chunk in rag_chain.stream(question):\n",
    "    print(chunk, end=\"\", flush=True)"
   ]
  },
  {
   "cell_type": "code",
   "execution_count": 14,
   "metadata": {},
   "outputs": [
    {
     "data": {
      "text/plain": [
       "ChatPromptTemplate(input_variables=['context', 'question'], messages=[HumanMessagePromptTemplate(prompt=PromptTemplate(input_variables=['context', 'question'], template=\"You are an assistant for question-answering tasks. Use the following pieces of retrieved context to answer the question. If you don't know the answer, just say that you don't know. Use three sentences maximum and keep the answer concise.\\nQuestion: {question} \\nContext: {context} \\nAnswer:\"))])"
      ]
     },
     "execution_count": 14,
     "metadata": {},
     "output_type": "execute_result"
    }
   ],
   "source": [
    "prompt"
   ]
  },
  {
   "cell_type": "code",
   "execution_count": 16,
   "metadata": {},
   "outputs": [],
   "source": [
    "docs = retriever.get_relevant_documents(q2)"
   ]
  },
  {
   "cell_type": "code",
   "execution_count": 18,
   "metadata": {},
   "outputs": [
    {
     "data": {
      "text/plain": [
       "Document(page_content='SURYA KUMAR SARIPELLA H 27 Richardson Rd, Burlington, MA 01803 https://www.linkedin.com/in/surya-kumar-saripella/ È (669) 246.0372 : s.suryakumar@gmail.com    SUMMARY   Accomplished leader with proven skills in driving technology strategy and implementation to fulfill business objectives. Expert in fostering an environment rooted in data-centric decision-making and adept at steering cross-functional teams within the Financial and Technology industries. Skilled in:  ü Data and AI Strategy &', metadata={'page': 0, 'source': './sample_docs/Surya_Resume.pdf', 'start_index': 0})"
      ]
     },
     "execution_count": 18,
     "metadata": {},
     "output_type": "execute_result"
    }
   ],
   "source": [
    "docs[0]"
   ]
  }
 ],
 "metadata": {
  "kernelspec": {
   "display_name": "venv_kaggle",
   "language": "python",
   "name": "python3"
  },
  "language_info": {
   "codemirror_mode": {
    "name": "ipython",
    "version": 3
   },
   "file_extension": ".py",
   "mimetype": "text/x-python",
   "name": "python",
   "nbconvert_exporter": "python",
   "pygments_lexer": "ipython3",
   "version": "3.11.7"
  }
 },
 "nbformat": 4,
 "nbformat_minor": 2
}
